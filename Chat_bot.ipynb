{
  "nbformat": 4,
  "nbformat_minor": 0,
  "metadata": {
    "colab": {
      "name": "Chat_bot.ipynb",
      "provenance": [],
      "collapsed_sections": [
        "F1w5-g06w5m5"
      ],
      "authorship_tag": "ABX9TyN0MJclaRy+t250TErAlwCW",
      "include_colab_link": true
    },
    "kernelspec": {
      "display_name": "Python 3",
      "name": "python3"
    },
    "language_info": {
      "name": "python"
    }
  },
  "cells": [
    {
      "cell_type": "markdown",
      "metadata": {
        "id": "view-in-github",
        "colab_type": "text"
      },
      "source": [
        "<a href=\"https://colab.research.google.com/github/Xasan6988/chat_bot/blob/main/Chat_bot.ipynb\" target=\"_parent\"><img src=\"https://colab.research.google.com/assets/colab-badge.svg\" alt=\"Open In Colab\"/></a>"
      ]
    },
    {
      "cell_type": "code",
      "metadata": {
        "id": "mkwJrdmbfXrF"
      },
      "source": [
        "import random\n",
        "import nltk\n",
        "import json\n",
        "from sklearn.linear_model import LogisticRegression\n",
        "from sklearn.feature_extraction.text import CountVectorizer\n",
        "import numpy as np\n",
        "from sklearn.model_selection import train_test_split\n",
        "from sklearn.ensemble import RandomForestClassifier\n",
        "\n",
        "import logging\n",
        "\n",
        "from telegram import Update, ForceReply\n",
        "from telegram.ext import Updater, CommandHandler, MessageHandler, Filters, CallbackContext\n"
      ],
      "execution_count": 1,
      "outputs": []
    },
    {
      "cell_type": "code",
      "metadata": {
        "id": "jQqXPTSuXoo0"
      },
      "source": [
        "with open('/content/BOT_CONFIG.json', 'r') as f:\n",
        "  BOT_CONFIG = json.load(f)\n",
        "\n",
        "# with open('/content/BOT_CONFIG.json', 'w') as f:\n",
        "#   json.dump(BOT_CONFIG, f, ensure_ascii=false, indent=3)\n"
      ],
      "execution_count": 2,
      "outputs": []
    },
    {
      "cell_type": "markdown",
      "metadata": {
        "id": "F1w5-g06w5m5"
      },
      "source": [
        "## День 1\n"
      ]
    },
    {
      "cell_type": "code",
      "metadata": {
        "id": "RQgB3eNiavf6"
      },
      "source": [
        "def clean(text):\n",
        "  output_text = ''\n",
        "  for char in text.lower():\n",
        "    if char in 'абвгдеёжзийклмнопрстуфхцчшщъыьэюя':\n",
        "      output_text = output_text + char\n",
        "  return output_text\n",
        "\n",
        "def get_intent(text): \n",
        "  for intent in BOT_CONFIG['intents']:\n",
        "    for example in BOT_CONFIG['intents'][intent]['examples']:\n",
        "      text1 = clean(example)\n",
        "      text2 = clean(text)\n",
        "      if len(text1) != 0 and len(text2) != 0:\n",
        "        if nltk.edit_distance(text1, text2) / max(len(text1), len(text2)) < 0.4:\n",
        "          return intent\n",
        "  return 'Не удалось определить интент'"
      ],
      "execution_count": null,
      "outputs": []
    },
    {
      "cell_type": "code",
      "metadata": {
        "id": "fiRos6TOcwTG"
      },
      "source": [
        "def bot(input_text):\n",
        "  intent = get_intent(input_text)\n",
        "  if intent != 'Не удалось определить интент':\n",
        "    return random.choice(BOT_CONFIG[\"intents\"][intent]['responces'])\n",
        "  else:\n",
        "    return 'Извините, я ничего не понял. Я просто глупый бот.'\n"
      ],
      "execution_count": null,
      "outputs": []
    },
    {
      "cell_type": "code",
      "metadata": {
        "id": "St0L4ZDjdLOD"
      },
      "source": [
        "input_text = ''\n",
        "while input_text != 'Завершить работу':\n",
        "  input_text = input()\n",
        "  print(bot(input_text))\n"
      ],
      "execution_count": null,
      "outputs": []
    },
    {
      "cell_type": "markdown",
      "metadata": {
        "id": "IcB2GhplxBDS"
      },
      "source": [
        "## День 2\n"
      ]
    },
    {
      "cell_type": "code",
      "metadata": {
        "id": "HzTbBcBDAJry"
      },
      "source": [
        "X = [] \n",
        "y = []\n",
        "for intent in BOT_CONFIG['intents']:\n",
        "      try:\n",
        "        if intent != 'other':\n",
        "          for example in BOT_CONFIG['intents'][intent]['examples']:\n",
        "            X.append(example)\n",
        "            y.append(intent)\n",
        "      except:\n",
        "        print(BOT_CONFIG['intents'][intent])"
      ],
      "execution_count": null,
      "outputs": []
    },
    {
      "cell_type": "code",
      "metadata": {
        "id": "r1cp1j8RBoTj"
      },
      "source": [
        "len(X)"
      ],
      "execution_count": null,
      "outputs": []
    },
    {
      "cell_type": "code",
      "metadata": {
        "id": "DkwW2l2jPhFE"
      },
      "source": [
        "X_train, X_test, y_train, y_test = train_test_split(\n",
        "    X, y, test_size=0.2, random_state=42)"
      ],
      "execution_count": 5,
      "outputs": []
    },
    {
      "cell_type": "code",
      "metadata": {
        "colab": {
          "base_uri": "https://localhost:8080/"
        },
        "id": "W1zKPdeA9a8V",
        "outputId": "43c8d570-4953-426e-d6d7-582dfc422e4e"
      },
      "source": [
        "vectorizer = CountVectorizer(ngram_range=(2, 4), analyzer='char')\n",
        "X_train_vectorized = vectorizer.fit_transform(X_train)\n",
        "X_test_vectorized = vectorizer.transform(X_test)\n",
        "len(vectorizer.get_feature_names())\n"
      ],
      "execution_count": 6,
      "outputs": [
        {
          "output_type": "execute_result",
          "data": {
            "text/plain": [
              "6789"
            ]
          },
          "metadata": {
            "tags": []
          },
          "execution_count": 6
        }
      ]
    },
    {
      "cell_type": "code",
      "metadata": {
        "id": "Twvy9wcWC_2Y"
      },
      "source": [
        "clf = LogisticRegression(random_state=0).fit(X_train_vectorized, y_train)\n",
        "# clf = RandomForestClassifier(n_estimators=200).fit(X_train_vectorized, y_train)"
      ],
      "execution_count": null,
      "outputs": []
    },
    {
      "cell_type": "code",
      "metadata": {
        "id": "tUUcOeLTEG0a"
      },
      "source": [
        "clf.score(X_train_vectorized, y_train)\n",
        "# 0.859704641350211 LogReg_base"
      ],
      "execution_count": null,
      "outputs": []
    },
    {
      "cell_type": "code",
      "metadata": {
        "id": "OEsk4BqaQSwb"
      },
      "source": [
        "clf.score(X_test_vectorized, y_test)\n",
        "# 0.1729957805907173 LogReg_base"
      ],
      "execution_count": null,
      "outputs": []
    },
    {
      "cell_type": "code",
      "metadata": {
        "id": "GhyozBxhERyy"
      },
      "source": [
        "clf.predict(vectorizer.transform(['Откуда ты?']))"
      ],
      "execution_count": null,
      "outputs": []
    },
    {
      "cell_type": "code",
      "metadata": {
        "id": "_sdzZfM9IKEI"
      },
      "source": [
        "def get_intent_by_model(text):\n",
        "  return clf.predict(vectorizer.transform([text]))[0]"
      ],
      "execution_count": 11,
      "outputs": []
    },
    {
      "cell_type": "markdown",
      "metadata": {
        "id": "Qk3shk7gGdMq"
      },
      "source": [
        "## Вызов бота"
      ]
    },
    {
      "cell_type": "code",
      "metadata": {
        "id": "NW0yRvn2GhvA"
      },
      "source": [
        "def bot(input_text):\n",
        "  intent = get_intent_by_model(input_text)\n",
        "  return random.choice(BOT_CONFIG[\"intents\"][intent]['responses'])"
      ],
      "execution_count": 12,
      "outputs": []
    },
    {
      "cell_type": "code",
      "metadata": {
        "id": "y69A3aynGl-3"
      },
      "source": [
        "input_text = ''\n",
        "while input_text != 'Завершить работу':\n",
        "  input_text = input()\n",
        "  print(bot(input_text))\n"
      ],
      "execution_count": null,
      "outputs": []
    },
    {
      "cell_type": "markdown",
      "metadata": {
        "id": "eH8g43NJu8ri"
      },
      "source": [
        "## День 3. Подключение бота к телеграм"
      ]
    },
    {
      "cell_type": "code",
      "metadata": {
        "id": "c_IIsf6_vnPo"
      },
      "source": [
        "# !pip install python-telegram-bot --upgrade"
      ],
      "execution_count": null,
      "outputs": []
    },
    {
      "cell_type": "code",
      "metadata": {
        "id": "tjwHjEps1a3u"
      },
      "source": [
        "# Enable logging\n",
        "logging.basicConfig(\n",
        "    format='%(asctime)s - %(name)s - %(levelname)s - %(message)s', level=logging.INFO\n",
        ")\n",
        "\n",
        "logger = logging.getLogger(__name__)\n",
        "\n",
        "\n",
        "# Define a few command handlers. These usually take the two arguments update and\n",
        "# context.\n",
        "def start(update: Update, context: CallbackContext) -> None:\n",
        "    \"\"\"Send a message when the command /start is issued.\"\"\"\n",
        "    user = update.effective_user\n",
        "    update.message.reply_markdown_v2(\n",
        "        fr'Hi {user.mention_markdown_v2()}\\!',\n",
        "        reply_markup=ForceReply(selective=True),\n",
        "    )\n",
        "\n",
        "\n",
        "def help_command(update: Update, context: CallbackContext) -> None:\n",
        "    \"\"\"Send a message when the command /help is issued.\"\"\"\n",
        "    update.message.reply_text('Help!')\n",
        "\n",
        "\n",
        "def echo(update: Update, context: CallbackContext) -> None:\n",
        "    \"\"\"Echo the user message.\"\"\"\n",
        "    update.message.reply_text(bot(update.message.text))\n",
        "\n",
        "\n",
        "def main() -> None:\n",
        "    \"\"\"Start the bot.\"\"\"\n",
        "    # Create the Updater and pass it your bot's token.\n",
        "    updater = Updater(\"\")\n",
        "\n",
        "    # Get the dispatcher to register handlers\n",
        "    dispatcher = updater.dispatcher\n",
        "\n",
        "    # on different commands - answer in Telegram\n",
        "    dispatcher.add_handler(CommandHandler(\"start\", start))\n",
        "    dispatcher.add_handler(CommandHandler(\"help\", help_command))\n",
        "\n",
        "    # on non command i.e message - echo the message on Telegram\n",
        "    dispatcher.add_handler(MessageHandler(Filters.text & ~Filters.command, echo))\n",
        "\n",
        "    # Start the Bot\n",
        "    updater.start_polling()\n",
        "\n",
        "    # Run the bot until you press Ctrl-C or the process receives SIGINT,\n",
        "    # SIGTERM or SIGABRT. This should be used most of the time, since\n",
        "    # start_polling() is non-blocking and will stop the bot gracefully.\n",
        "    updater.idle()"
      ],
      "execution_count": 13,
      "outputs": []
    },
    {
      "cell_type": "code",
      "metadata": {
        "id": "YNgRX-ns1dYG"
      },
      "source": [
        "main()"
      ],
      "execution_count": null,
      "outputs": []
    }
  ]
}