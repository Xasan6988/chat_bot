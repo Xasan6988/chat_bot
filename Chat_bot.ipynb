{
  "nbformat": 4,
  "nbformat_minor": 0,
  "metadata": {
    "colab": {
      "name": "Chat_bot.ipynb",
      "provenance": [],
      "authorship_tag": "ABX9TyM3Z9gfHgBPZWgAHiUVje4a",
      "include_colab_link": true
    },
    "kernelspec": {
      "display_name": "Python 3",
      "name": "python3"
    },
    "language_info": {
      "name": "python"
    }
  },
  "cells": [
    {
      "cell_type": "markdown",
      "metadata": {
        "id": "view-in-github",
        "colab_type": "text"
      },
      "source": [
        "<a href=\"https://colab.research.google.com/github/Xasan6988/chat_bot/blob/main/Chat_bot.ipynb\" target=\"_parent\"><img src=\"https://colab.research.google.com/assets/colab-badge.svg\" alt=\"Open In Colab\"/></a>"
      ]
    },
    {
      "cell_type": "code",
      "metadata": {
        "id": "mkwJrdmbfXrF"
      },
      "source": [
        "import random\n",
        "import nltk"
      ],
      "execution_count": 36,
      "outputs": []
    },
    {
      "cell_type": "code",
      "metadata": {
        "id": "jQqXPTSuXoo0"
      },
      "source": [
        "BOT_CONFIG = {\n",
        "    'intents': {\n",
        "        'hello': {\n",
        "            'examples': ['Привет', 'Хай', 'Хэллоу'],\n",
        "            'responces': ['Здравствуйте', 'Прив', 'Доброго дня'],\n",
        "        },\n",
        "        'bye': {\n",
        "            'examples': ['Пока', 'Увидимся', 'До свидания'],\n",
        "            'responces': ['Приходите ещё', 'Рад был познакомиться', 'Покеда'],\n",
        "        },\n",
        "    }\n",
        "}"
      ],
      "execution_count": 37,
      "outputs": []
    },
    {
      "cell_type": "code",
      "metadata": {
        "id": "RQgB3eNiavf6"
      },
      "source": [
        "def clean(text):\n",
        "  output_text = ''\n",
        "  for char in text.lower():\n",
        "    if char in 'абвгдеёжзийклмнопрстуфхцчшщъыьэюя':\n",
        "      output_text = output_text + char\n",
        "  return output_text\n",
        "\n",
        "def get_intent(text): \n",
        "  for intent in BOT_CONFIG['intents']:\n",
        "    for example in BOT_CONFIG['intents'][intent]['examples']:\n",
        "      text1 = clean(example)\n",
        "      text2 = clean(text)\n",
        "      if len(text1) != 0 and len(text2) != 0:\n",
        "        if nltk.edit_distance(text1, text2) / max(len(text1), len(text2)) < 0.4:\n",
        "          return intent\n",
        "  return 'Не удалось определить интент'"
      ],
      "execution_count": 38,
      "outputs": []
    },
    {
      "cell_type": "code",
      "metadata": {
        "id": "fiRos6TOcwTG"
      },
      "source": [
        "def bot(input_text):\n",
        "  intent = get_intent(input_text)\n",
        "  if intent != 'Не удалось определить интент':\n",
        "    return random.choice(BOT_CONFIG[\"intents\"][intent]['responces'])\n",
        "  else:\n",
        "    return 'Извините, я ничего не понял. Я просто глупый бот.'\n"
      ],
      "execution_count": 39,
      "outputs": []
    },
    {
      "cell_type": "code",
      "metadata": {
        "colab": {
          "base_uri": "https://localhost:8080/"
        },
        "id": "St0L4ZDjdLOD",
        "outputId": "35051bae-b441-4700-82e1-71f21c43158b"
      },
      "source": [
        "input_text = ''\n",
        "while input_text != 'Завершить работу':\n",
        "  input_text = input()\n",
        "  print(bot(input_text))\n"
      ],
      "execution_count": 40,
      "outputs": [
        {
          "output_type": "stream",
          "text": [
            "Превед\n",
            "Прив\n",
            "Завершить работу\n",
            "Извините, я ничего не понял. Я просто глупый бот.\n"
          ],
          "name": "stdout"
        }
      ]
    }
  ]
}